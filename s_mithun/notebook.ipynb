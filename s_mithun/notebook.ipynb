{
 "cells": [
  {
   "cell_type": "code",
   "execution_count": 1,
   "metadata": {
    "collapsed": true
   },
   "outputs": [
    {
     "name": "stderr",
     "output_type": "stream",
     "text": [
      "WARNING:root:Requests made without an app_token will be subject to strict throttling limits.\n"
     ]
    },
    {
     "name": "stdout",
     "output_type": "stream",
     "text": [
      "crash_date                       20000\n",
      "crash_time                       20000\n",
      "borough                          12883\n",
      "zip_code                         12879\n",
      "latitude                         18731\n",
      "longitude                        18731\n",
      "location                         18731\n",
      "cross_street_name                 4557\n",
      "number_of_persons_injured        20000\n",
      "number_of_persons_killed         20000\n",
      "number_of_pedestrians_injured    20000\n",
      "number_of_pedestrians_killed     20000\n",
      "number_of_cyclist_injured        20000\n",
      "number_of_cyclist_killed         20000\n",
      "number_of_motorist_injured       20000\n",
      "number_of_motorist_killed        20000\n",
      "contributing_factor_vehicle_1    19922\n",
      "contributing_factor_vehicle_2    16612\n",
      "collision_id                     20000\n",
      "vehicle_type_code1               19826\n",
      "vehicle_type_code2               15076\n",
      "contributing_factor_vehicle_3     1184\n",
      "vehicle_type_code_3               1109\n",
      "on_street_name                   15342\n",
      "off_street_name                  10161\n",
      "contributing_factor_vehicle_4      262\n",
      "vehicle_type_code_4                250\n",
      "contributing_factor_vehicle_5       67\n",
      "vehicle_type_code_5                 65\n",
      "dtype: int64\n",
      "crash_date                       20000\n",
      "crash_time                       20000\n",
      "borough                          20000\n",
      "zip_code                         20000\n",
      "latitude                         20000\n",
      "longitude                        20000\n",
      "location                         20000\n",
      "cross_street_name                20000\n",
      "number_of_persons_injured        20000\n",
      "number_of_persons_killed         20000\n",
      "number_of_pedestrians_injured    20000\n",
      "number_of_pedestrians_killed     20000\n",
      "number_of_cyclist_injured        20000\n",
      "number_of_cyclist_killed         20000\n",
      "number_of_motorist_injured       20000\n",
      "number_of_motorist_killed        20000\n",
      "contributing_factor_vehicle_1    20000\n",
      "contributing_factor_vehicle_2    20000\n",
      "collision_id                     20000\n",
      "vehicle_type_code1               20000\n",
      "vehicle_type_code2               20000\n",
      "contributing_factor_vehicle_3    20000\n",
      "vehicle_type_code_3              20000\n",
      "on_street_name                   20000\n",
      "off_street_name                  20000\n",
      "contributing_factor_vehicle_4    20000\n",
      "vehicle_type_code_4              20000\n",
      "contributing_factor_vehicle_5    20000\n",
      "vehicle_type_code_5              20000\n",
      "dtype: int64\n"
     ]
    }
   ],
   "source": [
    "import pandas as pd\n",
    "from sodapy import Socrata\n",
    "\n",
    "client = Socrata(\"data.cityofnewyork.us\", None)\n",
    "\n",
    "# Example authenticated client (needed for non-public datasets):\n",
    "# client = Socrata(data.cityofnewyork.us,\n",
    "#                  MyAppToken,\n",
    "#                  userame=\"user@example.com\",\n",
    "#                  password=\"AFakePassword\")\n",
    "\n",
    "# First 20000 results, returned as JSON from API / converted to Python list of\n",
    "# dictionaries by sodapy.\n",
    "results = client.get(\"h9gi-nx95\", limit=20000)\n",
    "\n",
    "# Convert to pandas DataFrame\n",
    "results_df = pd.DataFrame.from_records(results)\n",
    "print(results_df.count())\n",
    "print('--------------------------------')\n",
    "print(results_df.astype(bool).sum(axis=0))\n",
    "\n"
   ]
  }
 ],
 "metadata": {
  "kernelspec": {
   "display_name": "Python 3",
   "language": "python",
   "name": "python3"
  },
  "language_info": {
   "codemirror_mode": {
    "name": "ipython",
    "version": 2
   },
   "file_extension": ".py",
   "mimetype": "text/x-python",
   "name": "python",
   "nbconvert_exporter": "python",
   "pygments_lexer": "ipython2",
   "version": "2.7.6"
  }
 },
 "nbformat": 4,
 "nbformat_minor": 0
}